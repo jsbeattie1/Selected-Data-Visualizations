{
 "cells": [
  {
   "cell_type": "code",
   "execution_count": 1,
   "id": "4fa58adc",
   "metadata": {},
   "outputs": [],
   "source": [
    "import numpy as np\n",
    "import pandas as pd"
   ]
  },
  {
   "cell_type": "code",
   "execution_count": 10,
   "id": "ddedd278",
   "metadata": {},
   "outputs": [
    {
     "data": {
      "image/png": "[encoded data removed]",
      "text/plain": [
       "<Figure size 400x600 with 1 Axes>"
      ]
     },
     "metadata": {},
     "output_type": "display_data"
    }
   ],
   "source": [
    "import matplotlib.pyplot as plt\n",
    "title_text = 'Confusion Matrix'\n",
    "footer_text = 'Diagnostic'\n",
    "fig_background_color = 'skyblue'\n",
    "fig_border = 'steelblue'\n",
    "data =  [\n",
    "            [         'Actual: A', 'Actual: B'],\n",
    "            ['  Assessment: A  ', 80, 15],\n",
    "            ['  Assessment: B  ', 20, 885]\n",
    "        ]\n",
    "# Pop the headers from the data array\n",
    "column_headers = data.pop(0)\n",
    "row_headers = [x.pop(0) for x in data]\n",
    "# Table data needs to be non-numeric text. Format the data\n",
    "# while I'm at it.\n",
    "cell_text = []\n",
    "for row in data:\n",
    "    cell_text.append([f'{x}' for x in row])\n",
    "# Get some lists of color specs for row and column headers\n",
    "rcolors = plt.cm.BuPu(np.full(len(row_headers), 0.1))\n",
    "ccolors = plt.cm.BuPu(np.full(len(column_headers), 0.1))\n",
    "# Create the figure. Setting a small pad on tight_layout\n",
    "# seems to better regulate white space. Sometimes experimenting\n",
    "# with an explicit figsize here can produce better outcome.\n",
    "plt.figure(linewidth=2,\n",
    "#           edgecolor=fig_border,\n",
    "#           facecolor=fig_background_color,\n",
    "           tight_layout={'pad':1},\n",
    "           figsize=(4,6)\n",
    "          )\n",
    "# Add a table at the bottom of the axes\n",
    "the_table = plt.table(cellText=cell_text,\n",
    "                      cellLoc='center',\n",
    "                      rowLabels=row_headers,\n",
    "                      rowColours=rcolors,\n",
    "                      rowLoc='center',\n",
    "                      colColours=ccolors,\n",
    "                      colLabels=column_headers,\n",
    "                      loc='top')\n",
    "# Scaling is the only influence we have over top and bottom cell padding.\n",
    "# Make the rows taller (i.e., make cell y scale larger).\n",
    "the_table.scale(1, 2)\n",
    "# Hide axes\n",
    "ax = plt.gca()\n",
    "ax.get_xaxis().set_visible(False)\n",
    "ax.get_yaxis().set_visible(False)\n",
    "# Hide axes border\n",
    "plt.box(on=None)\n",
    "# Add title\n",
    "plt.suptitle('Model #2')\n",
    "# Add footer\n",
    "# plt.figtext(0.95, 0.05, footer_text, horizontalalignment='right', size=6, weight='light')\n",
    "# Force the figure to update, so backends center objects correctly within the figure.\n",
    "# Without plt.draw() here, the title will center on the axes and not the figure.\n",
    "plt.draw()\n",
    "# Create image. plt.savefig ignores figure edge and face colors, so map them.\n",
    "fig = plt.gcf()\n",
    "plt.show()\n",
    "# plt.savefig('pyplot-table-demo.png',\n",
    "            #bbox='tight',\n",
    "#            edgecolor=fig.get_edgecolor(),\n",
    "#            facecolor=fig.get_facecolor(),\n",
    "#            dpi=150\n",
    "#            )"
   ]
  },
  {
   "cell_type": "code",
   "execution_count": null,
   "id": "07ccd14d",
   "metadata": {},
   "outputs": [],
   "source": []
  }
 ],
 "metadata": {
  "kernelspec": {
   "display_name": "Python 3 (ipykernel)",
   "language": "python",
   "name": "python3"
  },
  "language_info": {
   "codemirror_mode": {
    "name": "ipython",
    "version": 3
   },
   "file_extension": ".py",
   "mimetype": "text/x-python",
   "name": "python",
   "nbconvert_exporter": "python",
   "pygments_lexer": "ipython3",
   "version": "3.11.0"
  }
 },
 "nbformat": 4,
 "nbformat_minor": 5
}
